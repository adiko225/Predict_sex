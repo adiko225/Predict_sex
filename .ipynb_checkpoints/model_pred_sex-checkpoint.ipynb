{
 "cells": [
  {
   "cell_type": "code",
   "execution_count": 144,
   "id": "92c00795",
   "metadata": {},
   "outputs": [],
   "source": [
    "import pandas as pd\n",
    "import pandas as pd\n",
    "import string\n",
    "import numpy as np\n",
    "from matplotlib import pyplot as plt\n",
    "from sklearn.model_selection import train_test_split\n",
    "from tensorflow.keras.callbacks import EarlyStopping\n",
    "from tensorflow.keras import Sequential\n",
    "from tensorflow.keras.layers import Embedding, Bidirectional, LSTM, Dense\n",
    "from tensorflow.keras.optimizers import Adam"
   ]
  },
  {
   "cell_type": "code",
   "execution_count": 2,
   "id": "9bded9ae",
   "metadata": {},
   "outputs": [
    {
     "name": "stderr",
     "output_type": "stream",
     "text": [
      "C:\\Users\\7MAKSACOD PC\\miniconda3\\lib\\site-packages\\scipy\\__init__.py:146: UserWarning: A NumPy version >=1.16.5 and <1.23.0 is required for this version of SciPy (detected version 1.23.4\n",
      "  warnings.warn(f\"A NumPy version >={np_minversion} and <{np_maxversion}\"\n"
     ]
    }
   ],
   "source": []
  },
  {
   "cell_type": "code",
   "execution_count": 145,
   "id": "2c41c8a7",
   "metadata": {},
   "outputs": [],
   "source": [
    "names=pd.read_csv(f\"/Users/7MAKSACOD PC/Downloads/names_data.csv\")"
   ]
  },
  {
   "cell_type": "code",
   "execution_count": 146,
   "id": "c486f199",
   "metadata": {},
   "outputs": [
    {
     "data": {
      "text/html": [
       "<div>\n",
       "<style scoped>\n",
       "    .dataframe tbody tr th:only-of-type {\n",
       "        vertical-align: middle;\n",
       "    }\n",
       "\n",
       "    .dataframe tbody tr th {\n",
       "        vertical-align: top;\n",
       "    }\n",
       "\n",
       "    .dataframe thead th {\n",
       "        text-align: right;\n",
       "    }\n",
       "</style>\n",
       "<table border=\"1\" class=\"dataframe\">\n",
       "  <thead>\n",
       "    <tr style=\"text-align: right;\">\n",
       "      <th></th>\n",
       "      <th>name</th>\n",
       "      <th>gender</th>\n",
       "      <th>num_names</th>\n",
       "    </tr>\n",
       "  </thead>\n",
       "  <tbody>\n",
       "    <tr>\n",
       "      <th>0</th>\n",
       "      <td>Mary</td>\n",
       "      <td>F</td>\n",
       "      <td>5644</td>\n",
       "    </tr>\n",
       "    <tr>\n",
       "      <th>1</th>\n",
       "      <td>Annie</td>\n",
       "      <td>F</td>\n",
       "      <td>4034</td>\n",
       "    </tr>\n",
       "    <tr>\n",
       "      <th>2</th>\n",
       "      <td>Anna</td>\n",
       "      <td>F</td>\n",
       "      <td>5615</td>\n",
       "    </tr>\n",
       "    <tr>\n",
       "      <th>3</th>\n",
       "      <td>Margaret</td>\n",
       "      <td>F</td>\n",
       "      <td>5558</td>\n",
       "    </tr>\n",
       "    <tr>\n",
       "      <th>4</th>\n",
       "      <td>Helen</td>\n",
       "      <td>F</td>\n",
       "      <td>4914</td>\n",
       "    </tr>\n",
       "  </tbody>\n",
       "</table>\n",
       "</div>"
      ],
      "text/plain": [
       "       name gender  num_names\n",
       "0      Mary      F       5644\n",
       "1     Annie      F       4034\n",
       "2      Anna      F       5615\n",
       "3  Margaret      F       5558\n",
       "4     Helen      F       4914"
      ]
     },
     "execution_count": 146,
     "metadata": {},
     "output_type": "execute_result"
    }
   ],
   "source": [
    "names.head()"
   ]
  },
  {
   "cell_type": "code",
   "execution_count": 147,
   "id": "503ebdc4",
   "metadata": {},
   "outputs": [],
   "source": [
    "alphabet=list(string.ascii_lowercase)"
   ]
  },
  {
   "cell_type": "code",
   "execution_count": 148,
   "id": "03d2d251",
   "metadata": {},
   "outputs": [],
   "source": [
    "names[\"name\"]=names[\"name\"].str.lower()\n",
    "data=names.iloc[:, :2]\n",
    "\n",
    "## Binary encoder function\n",
    "\n",
    "def encod_sex(ch):\n",
    "  if ch==\"F\":\n",
    "    return 0\n",
    "## 0 mean female and 1 for male\n",
    "  else:\n",
    "    return 1\n",
    "\n",
    "data[\"gender\"]= data[\"gender\"].apply(encod_sex)"
   ]
  },
  {
   "cell_type": "code",
   "execution_count": 149,
   "id": "653147e8",
   "metadata": {},
   "outputs": [
    {
     "data": {
      "text/html": [
       "<div>\n",
       "<style scoped>\n",
       "    .dataframe tbody tr th:only-of-type {\n",
       "        vertical-align: middle;\n",
       "    }\n",
       "\n",
       "    .dataframe tbody tr th {\n",
       "        vertical-align: top;\n",
       "    }\n",
       "\n",
       "    .dataframe thead th {\n",
       "        text-align: right;\n",
       "    }\n",
       "</style>\n",
       "<table border=\"1\" class=\"dataframe\">\n",
       "  <thead>\n",
       "    <tr style=\"text-align: right;\">\n",
       "      <th></th>\n",
       "      <th>name</th>\n",
       "      <th>gender</th>\n",
       "    </tr>\n",
       "  </thead>\n",
       "  <tbody>\n",
       "    <tr>\n",
       "      <th>0</th>\n",
       "      <td>mary</td>\n",
       "      <td>0</td>\n",
       "    </tr>\n",
       "    <tr>\n",
       "      <th>1</th>\n",
       "      <td>annie</td>\n",
       "      <td>0</td>\n",
       "    </tr>\n",
       "    <tr>\n",
       "      <th>2</th>\n",
       "      <td>anna</td>\n",
       "      <td>0</td>\n",
       "    </tr>\n",
       "    <tr>\n",
       "      <th>3</th>\n",
       "      <td>margaret</td>\n",
       "      <td>0</td>\n",
       "    </tr>\n",
       "    <tr>\n",
       "      <th>4</th>\n",
       "      <td>helen</td>\n",
       "      <td>0</td>\n",
       "    </tr>\n",
       "  </tbody>\n",
       "</table>\n",
       "</div>"
      ],
      "text/plain": [
       "       name  gender\n",
       "0      mary       0\n",
       "1     annie       0\n",
       "2      anna       0\n",
       "3  margaret       0\n",
       "4     helen       0"
      ]
     },
     "execution_count": 149,
     "metadata": {},
     "output_type": "execute_result"
    }
   ],
   "source": [
    "data.head()"
   ]
  },
  {
   "cell_type": "code",
   "execution_count": null,
   "id": "671f32ae",
   "metadata": {},
   "outputs": [],
   "source": []
  },
  {
   "cell_type": "code",
   "execution_count": null,
   "id": "d6602fbc",
   "metadata": {},
   "outputs": [],
   "source": []
  },
  {
   "cell_type": "code",
   "execution_count": null,
   "id": "afbeb894",
   "metadata": {},
   "outputs": [],
   "source": []
  },
  {
   "cell_type": "code",
   "execution_count": 150,
   "id": "93d945dc",
   "metadata": {},
   "outputs": [],
   "source": [
    "def encod_names(name):\n",
    "    name_split=list(name)\n",
    "    name_encoded=[alphabet.index(name_split[i])+1 for i in range(len(name_split))]\n",
    "    return name_encoded\n",
    "\n",
    "data[\"name_encoded\"]=data[\"name\"].apply(encod_names)"
   ]
  },
  {
   "cell_type": "code",
   "execution_count": 151,
   "id": "f2181195",
   "metadata": {},
   "outputs": [
    {
     "data": {
      "text/html": [
       "<div>\n",
       "<style scoped>\n",
       "    .dataframe tbody tr th:only-of-type {\n",
       "        vertical-align: middle;\n",
       "    }\n",
       "\n",
       "    .dataframe tbody tr th {\n",
       "        vertical-align: top;\n",
       "    }\n",
       "\n",
       "    .dataframe thead th {\n",
       "        text-align: right;\n",
       "    }\n",
       "</style>\n",
       "<table border=\"1\" class=\"dataframe\">\n",
       "  <thead>\n",
       "    <tr style=\"text-align: right;\">\n",
       "      <th></th>\n",
       "      <th>name</th>\n",
       "      <th>gender</th>\n",
       "      <th>name_encoded</th>\n",
       "    </tr>\n",
       "  </thead>\n",
       "  <tbody>\n",
       "    <tr>\n",
       "      <th>0</th>\n",
       "      <td>mary</td>\n",
       "      <td>0</td>\n",
       "      <td>[13, 1, 18, 25]</td>\n",
       "    </tr>\n",
       "    <tr>\n",
       "      <th>1</th>\n",
       "      <td>annie</td>\n",
       "      <td>0</td>\n",
       "      <td>[1, 14, 14, 9, 5]</td>\n",
       "    </tr>\n",
       "    <tr>\n",
       "      <th>2</th>\n",
       "      <td>anna</td>\n",
       "      <td>0</td>\n",
       "      <td>[1, 14, 14, 1]</td>\n",
       "    </tr>\n",
       "    <tr>\n",
       "      <th>3</th>\n",
       "      <td>margaret</td>\n",
       "      <td>0</td>\n",
       "      <td>[13, 1, 18, 7, 1, 18, 5, 20]</td>\n",
       "    </tr>\n",
       "    <tr>\n",
       "      <th>4</th>\n",
       "      <td>helen</td>\n",
       "      <td>0</td>\n",
       "      <td>[8, 5, 12, 5, 14]</td>\n",
       "    </tr>\n",
       "  </tbody>\n",
       "</table>\n",
       "</div>"
      ],
      "text/plain": [
       "       name  gender                  name_encoded\n",
       "0      mary       0               [13, 1, 18, 25]\n",
       "1     annie       0             [1, 14, 14, 9, 5]\n",
       "2      anna       0                [1, 14, 14, 1]\n",
       "3  margaret       0  [13, 1, 18, 7, 1, 18, 5, 20]\n",
       "4     helen       0             [8, 5, 12, 5, 14]"
      ]
     },
     "execution_count": 151,
     "metadata": {},
     "output_type": "execute_result"
    }
   ],
   "source": [
    "data.head()"
   ]
  },
  {
   "cell_type": "code",
   "execution_count": 152,
   "id": "715db324",
   "metadata": {},
   "outputs": [],
   "source": [
    "def comp_list(x):\n",
    "    if len(x)< 50:\n",
    "        x=[0]*(50-len(x))+x\n",
    "    return x"
   ]
  },
  {
   "cell_type": "code",
   "execution_count": 153,
   "id": "ea59ab61",
   "metadata": {},
   "outputs": [],
   "source": [
    "data[\"name_encoded\"]=data[\"name_encoded\"].apply(comp_list)"
   ]
  },
  {
   "cell_type": "code",
   "execution_count": 154,
   "id": "8e7105ea",
   "metadata": {},
   "outputs": [
    {
     "data": {
      "text/html": [
       "<div>\n",
       "<style scoped>\n",
       "    .dataframe tbody tr th:only-of-type {\n",
       "        vertical-align: middle;\n",
       "    }\n",
       "\n",
       "    .dataframe tbody tr th {\n",
       "        vertical-align: top;\n",
       "    }\n",
       "\n",
       "    .dataframe thead th {\n",
       "        text-align: right;\n",
       "    }\n",
       "</style>\n",
       "<table border=\"1\" class=\"dataframe\">\n",
       "  <thead>\n",
       "    <tr style=\"text-align: right;\">\n",
       "      <th></th>\n",
       "      <th>name</th>\n",
       "      <th>gender</th>\n",
       "      <th>name_encoded</th>\n",
       "    </tr>\n",
       "  </thead>\n",
       "  <tbody>\n",
       "    <tr>\n",
       "      <th>0</th>\n",
       "      <td>mary</td>\n",
       "      <td>0</td>\n",
       "      <td>[0, 0, 0, 0, 0, 0, 0, 0, 0, 0, 0, 0, 0, 0, 0, ...</td>\n",
       "    </tr>\n",
       "    <tr>\n",
       "      <th>1</th>\n",
       "      <td>annie</td>\n",
       "      <td>0</td>\n",
       "      <td>[0, 0, 0, 0, 0, 0, 0, 0, 0, 0, 0, 0, 0, 0, 0, ...</td>\n",
       "    </tr>\n",
       "    <tr>\n",
       "      <th>2</th>\n",
       "      <td>anna</td>\n",
       "      <td>0</td>\n",
       "      <td>[0, 0, 0, 0, 0, 0, 0, 0, 0, 0, 0, 0, 0, 0, 0, ...</td>\n",
       "    </tr>\n",
       "    <tr>\n",
       "      <th>3</th>\n",
       "      <td>margaret</td>\n",
       "      <td>0</td>\n",
       "      <td>[0, 0, 0, 0, 0, 0, 0, 0, 0, 0, 0, 0, 0, 0, 0, ...</td>\n",
       "    </tr>\n",
       "    <tr>\n",
       "      <th>4</th>\n",
       "      <td>helen</td>\n",
       "      <td>0</td>\n",
       "      <td>[0, 0, 0, 0, 0, 0, 0, 0, 0, 0, 0, 0, 0, 0, 0, ...</td>\n",
       "    </tr>\n",
       "  </tbody>\n",
       "</table>\n",
       "</div>"
      ],
      "text/plain": [
       "       name  gender                                       name_encoded\n",
       "0      mary       0  [0, 0, 0, 0, 0, 0, 0, 0, 0, 0, 0, 0, 0, 0, 0, ...\n",
       "1     annie       0  [0, 0, 0, 0, 0, 0, 0, 0, 0, 0, 0, 0, 0, 0, 0, ...\n",
       "2      anna       0  [0, 0, 0, 0, 0, 0, 0, 0, 0, 0, 0, 0, 0, 0, 0, ...\n",
       "3  margaret       0  [0, 0, 0, 0, 0, 0, 0, 0, 0, 0, 0, 0, 0, 0, 0, ...\n",
       "4     helen       0  [0, 0, 0, 0, 0, 0, 0, 0, 0, 0, 0, 0, 0, 0, 0, ..."
      ]
     },
     "execution_count": 154,
     "metadata": {},
     "output_type": "execute_result"
    }
   ],
   "source": [
    "data.head()"
   ]
  },
  {
   "cell_type": "code",
   "execution_count": 155,
   "id": "4d5a339c",
   "metadata": {},
   "outputs": [],
   "source": [
    "def lstm_model(num_alphabets=27, name_length=50, embedding_dim=256):\n",
    "    model = Sequential([\n",
    "        Embedding(num_alphabets, embedding_dim, input_length=name_length),\n",
    "        Bidirectional(LSTM(units=128, recurrent_dropout=0.2, dropout=0.2)),\n",
    "        Dense(1, activation=\"sigmoid\")\n",
    "    ])\n",
    "\n",
    "    model.compile(loss='binary_crossentropy',\n",
    "                  optimizer=Adam(learning_rate=0.001),\n",
    "                  metrics=['accuracy'])\n",
    "\n",
    "    return model\n",
    "\n",
    "# Step 1: Instantiate the model\n",
    "model = lstm_model(num_alphabets=27, name_length=50, embedding_dim=256)"
   ]
  },
  {
   "cell_type": "code",
   "execution_count": 156,
   "id": "0dde1158",
   "metadata": {},
   "outputs": [],
   "source": [
    "X =np.array(data[\"name_encoded\"].tolist())\n",
    "y = data['gender'].values"
   ]
  },
  {
   "cell_type": "code",
   "execution_count": 157,
   "id": "27e72d79",
   "metadata": {},
   "outputs": [],
   "source": [
    "X=np.array(data[\"name_encoded\"].tolist())"
   ]
  },
  {
   "cell_type": "code",
   "execution_count": 68,
   "id": "216d30cd",
   "metadata": {},
   "outputs": [
    {
     "data": {
      "text/plain": [
       "array([0, 0, 0, ..., 1, 1, 1], dtype=int64)"
      ]
     },
     "execution_count": 68,
     "metadata": {},
     "output_type": "execute_result"
    }
   ],
   "source": []
  },
  {
   "cell_type": "code",
   "execution_count": 158,
   "id": "aa1aee21",
   "metadata": {},
   "outputs": [],
   "source": [
    "X_train, X_test, y_train, y_test = train_test_split(X, y, test_size=0.2, random_state=42)\n"
   ]
  },
  {
   "cell_type": "code",
   "execution_count": 159,
   "id": "1f9ac06c",
   "metadata": {},
   "outputs": [
    {
     "name": "stdout",
     "output_type": "stream",
     "text": [
      "Epoch 1/50\n",
      "445/445 [==============================] - 242s 528ms/step - loss: 0.5076 - accuracy: 0.7508 - val_loss: 0.4730 - val_accuracy: 0.7782\n",
      "Epoch 2/50\n",
      "445/445 [==============================] - 251s 564ms/step - loss: 0.4723 - accuracy: 0.7815 - val_loss: 0.4581 - val_accuracy: 0.7871\n",
      "Epoch 3/50\n",
      "445/445 [==============================] - 237s 532ms/step - loss: 0.4596 - accuracy: 0.7851 - val_loss: 0.4499 - val_accuracy: 0.7955\n",
      "Epoch 4/50\n",
      "445/445 [==============================] - 231s 520ms/step - loss: 0.4478 - accuracy: 0.7933 - val_loss: 0.4400 - val_accuracy: 0.8017\n",
      "Epoch 5/50\n",
      "445/445 [==============================] - 240s 540ms/step - loss: 0.4374 - accuracy: 0.8000 - val_loss: 0.4338 - val_accuracy: 0.8061\n",
      "Epoch 6/50\n",
      "445/445 [==============================] - 235s 527ms/step - loss: 0.4289 - accuracy: 0.8048 - val_loss: 0.4283 - val_accuracy: 0.8087\n",
      "Epoch 7/50\n",
      "445/445 [==============================] - 235s 527ms/step - loss: 0.4195 - accuracy: 0.8088 - val_loss: 0.4241 - val_accuracy: 0.8103\n",
      "Epoch 8/50\n",
      "445/445 [==============================] - 231s 520ms/step - loss: 0.4122 - accuracy: 0.8141 - val_loss: 0.4201 - val_accuracy: 0.8095\n",
      "Epoch 9/50\n",
      "445/445 [==============================] - 234s 525ms/step - loss: 0.4048 - accuracy: 0.8177 - val_loss: 0.4161 - val_accuracy: 0.8147\n",
      "Epoch 10/50\n",
      "445/445 [==============================] - 233s 524ms/step - loss: 0.3975 - accuracy: 0.8223 - val_loss: 0.4153 - val_accuracy: 0.8152\n",
      "Epoch 11/50\n",
      "445/445 [==============================] - 255s 573ms/step - loss: 0.3888 - accuracy: 0.8261 - val_loss: 0.4143 - val_accuracy: 0.8141\n",
      "Epoch 12/50\n",
      "445/445 [==============================] - 246s 553ms/step - loss: 0.3815 - accuracy: 0.8299 - val_loss: 0.4197 - val_accuracy: 0.8138\n",
      "Epoch 13/50\n",
      "445/445 [==============================] - 243s 547ms/step - loss: 0.3749 - accuracy: 0.8316 - val_loss: 0.4139 - val_accuracy: 0.8144\n",
      "Epoch 14/50\n",
      "445/445 [==============================] - 311s 699ms/step - loss: 0.3665 - accuracy: 0.8358 - val_loss: 0.4136 - val_accuracy: 0.8186\n",
      "Epoch 15/50\n",
      "445/445 [==============================] - 348s 781ms/step - loss: 0.3598 - accuracy: 0.8407 - val_loss: 0.4155 - val_accuracy: 0.8197\n",
      "Epoch 16/50\n",
      "445/445 [==============================] - 351s 788ms/step - loss: 0.3527 - accuracy: 0.8430 - val_loss: 0.4131 - val_accuracy: 0.8182\n",
      "Epoch 17/50\n",
      "445/445 [==============================] - 350s 786ms/step - loss: 0.3450 - accuracy: 0.8470 - val_loss: 0.4186 - val_accuracy: 0.8134\n",
      "Epoch 18/50\n",
      "445/445 [==============================] - 348s 783ms/step - loss: 0.3390 - accuracy: 0.8482 - val_loss: 0.4216 - val_accuracy: 0.8124\n",
      "Epoch 19/50\n",
      "445/445 [==============================] - 348s 781ms/step - loss: 0.3347 - accuracy: 0.8511 - val_loss: 0.4267 - val_accuracy: 0.8102\n",
      "Epoch 20/50\n",
      "445/445 [==============================] - ETA: 0s - loss: 0.3276 - accuracy: 0.8542Restoring model weights from the end of the best epoch: 15.\n",
      "445/445 [==============================] - 350s 786ms/step - loss: 0.3276 - accuracy: 0.8542 - val_loss: 0.4244 - val_accuracy: 0.8128\n",
      "Epoch 20: early stopping\n"
     ]
    }
   ],
   "source": [
    "callbacks =[ EarlyStopping(monitor='val_accuracy',\n",
    "                  min_delta=1e-3,\n",
    "                  patience=5,\n",
    "                  mode='max',\n",
    "                  restore_best_weights=True,\n",
    "                  verbose=1)]\n",
    "history = model.fit(x=X_train,\n",
    "                    y=y_train,\n",
    "                    batch_size=64,\n",
    "                    epochs=50,\n",
    "                    validation_data=(X_test, y_test),\n",
    "                    callbacks=callbacks)\n"
   ]
  },
  {
   "cell_type": "code",
   "execution_count": 160,
   "id": "ff921e37",
   "metadata": {},
   "outputs": [],
   "source": [
    "model.save(\"predict_name.h5\")"
   ]
  },
  {
   "cell_type": "code",
   "execution_count": 85,
   "id": "e6e81a35",
   "metadata": {
    "scrolled": true
   },
   "outputs": [
    {
     "data": {
      "text/plain": [
       "(28444, 50)"
      ]
     },
     "execution_count": 85,
     "metadata": {},
     "output_type": "execute_result"
    }
   ],
   "source": [
    "X_train.shape"
   ]
  },
  {
   "cell_type": "code",
   "execution_count": 93,
   "id": "ac2664b0",
   "metadata": {},
   "outputs": [],
   "source": [
    "loss=history.history[\"loss\"]\n",
    "acc=history.history[\"accuracy\"]\n",
    "val_acc = history.history[\"val_accuracy\"]"
   ]
  },
  {
   "cell_type": "code",
   "execution_count": 88,
   "id": "94410db5",
   "metadata": {},
   "outputs": [
    {
     "data": {
      "text/plain": [
       "20"
      ]
     },
     "execution_count": 88,
     "metadata": {},
     "output_type": "execute_result"
    }
   ],
   "source": [
    "len(loss)"
   ]
  },
  {
   "cell_type": "code",
   "execution_count": 96,
   "id": "178cda3d",
   "metadata": {},
   "outputs": [
    {
     "data": {
      "text/plain": [
       "[<matplotlib.lines.Line2D at 0x206e7a17940>]"
      ]
     },
     "execution_count": 96,
     "metadata": {},
     "output_type": "execute_result"
    },
    {
     "data": {
      "image/png": "[encoded data removed]",
      "text/plain": [
       "<Figure size 640x480 with 1 Axes>"
      ]
     },
     "metadata": {},
     "output_type": "display_data"
    }
   ],
   "source": [
    "\n",
    "plt.plot(range(len(acc)), val_acc)"
   ]
  },
  {
   "cell_type": "code",
   "execution_count": null,
   "id": "5d0d7a11",
   "metadata": {},
   "outputs": [],
   "source": [
    "%model.predict()"
   ]
  },
  {
   "cell_type": "code",
   "execution_count": 99,
   "id": "8411be66",
   "metadata": {},
   "outputs": [],
   "source": [
    "def nametonum(name: str):\n",
    "    name=name.lower()\n",
    "    name_encoded=encod_names(name)\n",
    "    name_encoded=comp_list(name_encoded)\n",
    "    return name_encoded"
   ]
  },
  {
   "cell_type": "code",
   "execution_count": 98,
   "id": "6ecb64d8",
   "metadata": {},
   "outputs": [
    {
     "data": {
      "text/plain": [
       "[9, 20, 13, 8, 14, 17]"
      ]
     },
     "execution_count": 98,
     "metadata": {},
     "output_type": "execute_result"
    }
   ],
   "source": [
    "encod_names(\"junior\")"
   ]
  },
  {
   "cell_type": "code",
   "execution_count": 109,
   "id": "a13e5069",
   "metadata": {},
   "outputs": [
    {
     "name": "stdout",
     "output_type": "stream",
     "text": [
      "223/223 [==============================] - 25s 110ms/step\n"
     ]
    }
   ],
   "source": [
    "test_pre=model.predict(X_test)"
   ]
  },
  {
   "cell_type": "code",
   "execution_count": 110,
   "id": "e343118f",
   "metadata": {
    "scrolled": true
   },
   "outputs": [
    {
     "data": {
      "text/plain": [
       "array([[0.02049119],\n",
       "       [0.01061419],\n",
       "       [0.27726832],\n",
       "       ...,\n",
       "       [0.9786296 ],\n",
       "       [0.1471317 ],\n",
       "       [0.21021834]], dtype=float32)"
      ]
     },
     "execution_count": 110,
     "metadata": {},
     "output_type": "execute_result"
    }
   ],
   "source": [
    "test_pre"
   ]
  },
  {
   "cell_type": "code",
   "execution_count": 131,
   "id": "a31db827",
   "metadata": {},
   "outputs": [
    {
     "data": {
      "text/plain": [
       "0.5630712979890311"
      ]
     },
     "execution_count": 131,
     "metadata": {},
     "output_type": "execute_result"
    }
   ],
   "source": [
    "sum(np.apply_along_axis(lambda x: 1 if x>.2 else 0, 1, test_pre))/len(test_pre)"
   ]
  },
  {
   "cell_type": "code",
   "execution_count": 118,
   "id": "f6f71a01",
   "metadata": {},
   "outputs": [],
   "source": [
    "fin=lambda x: 1 if x>.5 else 0"
   ]
  },
  {
   "cell_type": "code",
   "execution_count": 125,
   "id": "b3831dcf",
   "metadata": {},
   "outputs": [],
   "source": [
    "from sklearn.metrics import roc_curve, roc_auc_score"
   ]
  },
  {
   "cell_type": "code",
   "execution_count": 124,
   "id": "e1af0ffe",
   "metadata": {},
   "outputs": [
    {
     "data": {
      "text/plain": [
       "(array([0.       , 0.       , 0.       , ..., 0.9798331, 0.9798331,\n",
       "        1.       ]),\n",
       " array([0.00000000e+00, 3.57525921e-04, 1.68037183e-02, ...,\n",
       "        9.99642474e-01, 1.00000000e+00, 1.00000000e+00]),\n",
       " array([1.9995412e+00, 9.9954116e-01, 9.9442786e-01, ..., 5.6628906e-03,\n",
       "        5.6275055e-03, 1.3762284e-03], dtype=float32))"
      ]
     },
     "execution_count": 124,
     "metadata": {},
     "output_type": "execute_result"
    }
   ],
   "source": [
    "roc_curve(y_test, test_pre)"
   ]
  },
  {
   "cell_type": "code",
   "execution_count": 128,
   "id": "fc49bc74",
   "metadata": {},
   "outputs": [
    {
     "data": {
      "image/png": "[encoded data removed]",
      "text/plain": [
       "<Figure size 640x480 with 1 Axes>"
      ]
     },
     "metadata": {},
     "output_type": "display_data"
    }
   ],
   "source": [
    "ns_fpr, ns_tpr, _ = roc_curve(y_test, test_pre)\n",
    "lr_fpr, lr_tpr, _ = roc_curve(y_test, test_pre)\n",
    "# plot the roc curve for the model\n",
    "plt.plot(ns_fpr, ns_tpr, linestyle='--', label='Male')\n",
    "plt.plot(lr_fpr, lr_tpr, marker='.', label='Female')\n",
    "# axis labels\n",
    "plt.xlabel('False Positive Rate')\n",
    "plt.ylabel('True Positive Rate')\n",
    "# show the legend\n",
    "plt.legend()\n",
    "# show the plot\n",
    "plt.show()"
   ]
  },
  {
   "cell_type": "code",
   "execution_count": 139,
   "id": "55323638",
   "metadata": {},
   "outputs": [
    {
     "ename": "InvalidArgumentError",
     "evalue": "Graph execution error:\n\nDetected at node 'sequential_2/bidirectional_2/backward_lstm_2/transpose' defined at (most recent call last):\n    File \"C:\\Users\\7MAKSACOD PC\\miniconda3\\lib\\runpy.py\", line 197, in _run_module_as_main\n      return _run_code(code, main_globals, None,\n    File \"C:\\Users\\7MAKSACOD PC\\miniconda3\\lib\\runpy.py\", line 87, in _run_code\n      exec(code, run_globals)\n    File \"C:\\Users\\7MAKSACOD PC\\miniconda3\\lib\\site-packages\\ipykernel_launcher.py\", line 17, in <module>\n      app.launch_new_instance()\n    File \"C:\\Users\\7MAKSACOD PC\\miniconda3\\lib\\site-packages\\traitlets\\config\\application.py\", line 846, in launch_instance\n      app.start()\n    File \"C:\\Users\\7MAKSACOD PC\\miniconda3\\lib\\site-packages\\ipykernel\\kernelapp.py\", line 712, in start\n      self.io_loop.start()\n    File \"C:\\Users\\7MAKSACOD PC\\miniconda3\\lib\\site-packages\\tornado\\platform\\asyncio.py\", line 215, in start\n      self.asyncio_loop.run_forever()\n    File \"C:\\Users\\7MAKSACOD PC\\miniconda3\\lib\\asyncio\\base_events.py\", line 601, in run_forever\n      self._run_once()\n    File \"C:\\Users\\7MAKSACOD PC\\miniconda3\\lib\\asyncio\\base_events.py\", line 1905, in _run_once\n      handle._run()\n    File \"C:\\Users\\7MAKSACOD PC\\miniconda3\\lib\\asyncio\\events.py\", line 80, in _run\n      self._context.run(self._callback, *self._args)\n    File \"C:\\Users\\7MAKSACOD PC\\miniconda3\\lib\\site-packages\\ipykernel\\kernelbase.py\", line 510, in dispatch_queue\n      await self.process_one()\n    File \"C:\\Users\\7MAKSACOD PC\\miniconda3\\lib\\site-packages\\ipykernel\\kernelbase.py\", line 499, in process_one\n      await dispatch(*args)\n    File \"C:\\Users\\7MAKSACOD PC\\miniconda3\\lib\\site-packages\\ipykernel\\kernelbase.py\", line 406, in dispatch_shell\n      await result\n    File \"C:\\Users\\7MAKSACOD PC\\miniconda3\\lib\\site-packages\\ipykernel\\kernelbase.py\", line 730, in execute_request\n      reply_content = await reply_content\n    File \"C:\\Users\\7MAKSACOD PC\\miniconda3\\lib\\site-packages\\ipykernel\\ipkernel.py\", line 383, in do_execute\n      res = shell.run_cell(\n    File \"C:\\Users\\7MAKSACOD PC\\miniconda3\\lib\\site-packages\\ipykernel\\zmqshell.py\", line 528, in run_cell\n      return super().run_cell(*args, **kwargs)\n    File \"C:\\Users\\7MAKSACOD PC\\miniconda3\\lib\\site-packages\\IPython\\core\\interactiveshell.py\", line 2940, in run_cell\n      result = self._run_cell(\n    File \"C:\\Users\\7MAKSACOD PC\\miniconda3\\lib\\site-packages\\IPython\\core\\interactiveshell.py\", line 2995, in _run_cell\n      return runner(coro)\n    File \"C:\\Users\\7MAKSACOD PC\\miniconda3\\lib\\site-packages\\IPython\\core\\async_helpers.py\", line 129, in _pseudo_sync_runner\n      coro.send(None)\n    File \"C:\\Users\\7MAKSACOD PC\\miniconda3\\lib\\site-packages\\IPython\\core\\interactiveshell.py\", line 3194, in run_cell_async\n      has_raised = await self.run_ast_nodes(code_ast.body, cell_name,\n    File \"C:\\Users\\7MAKSACOD PC\\miniconda3\\lib\\site-packages\\IPython\\core\\interactiveshell.py\", line 3373, in run_ast_nodes\n      if await self.run_code(code, result, async_=asy):\n    File \"C:\\Users\\7MAKSACOD PC\\miniconda3\\lib\\site-packages\\IPython\\core\\interactiveshell.py\", line 3433, in run_code\n      exec(code_obj, self.user_global_ns, self.user_ns)\n    File \"C:\\Users\\7MAKSACOD PC\\AppData\\Local\\Temp\\ipykernel_4100\\3266073506.py\", line 2, in <module>\n      model.predict(Junior)\n    File \"C:\\Users\\7MAKSACOD PC\\miniconda3\\lib\\site-packages\\keras\\utils\\traceback_utils.py\", line 64, in error_handler\n      return fn(*args, **kwargs)\n    File \"C:\\Users\\7MAKSACOD PC\\miniconda3\\lib\\site-packages\\keras\\engine\\training.py\", line 2033, in predict\n      tmp_batch_outputs = self.predict_function(iterator)\n    File \"C:\\Users\\7MAKSACOD PC\\miniconda3\\lib\\site-packages\\keras\\engine\\training.py\", line 1845, in predict_function\n      return step_function(self, iterator)\n    File \"C:\\Users\\7MAKSACOD PC\\miniconda3\\lib\\site-packages\\keras\\engine\\training.py\", line 1834, in step_function\n      outputs = model.distribute_strategy.run(run_step, args=(data,))\n    File \"C:\\Users\\7MAKSACOD PC\\miniconda3\\lib\\site-packages\\keras\\engine\\training.py\", line 1823, in run_step\n      outputs = model.predict_step(data)\n    File \"C:\\Users\\7MAKSACOD PC\\miniconda3\\lib\\site-packages\\keras\\engine\\training.py\", line 1791, in predict_step\n      return self(x, training=False)\n    File \"C:\\Users\\7MAKSACOD PC\\miniconda3\\lib\\site-packages\\keras\\utils\\traceback_utils.py\", line 64, in error_handler\n      return fn(*args, **kwargs)\n    File \"C:\\Users\\7MAKSACOD PC\\miniconda3\\lib\\site-packages\\keras\\engine\\training.py\", line 490, in __call__\n      return super().__call__(*args, **kwargs)\n    File \"C:\\Users\\7MAKSACOD PC\\miniconda3\\lib\\site-packages\\keras\\utils\\traceback_utils.py\", line 64, in error_handler\n      return fn(*args, **kwargs)\n    File \"C:\\Users\\7MAKSACOD PC\\miniconda3\\lib\\site-packages\\keras\\engine\\base_layer.py\", line 1014, in __call__\n      outputs = call_fn(inputs, *args, **kwargs)\n    File \"C:\\Users\\7MAKSACOD PC\\miniconda3\\lib\\site-packages\\keras\\utils\\traceback_utils.py\", line 92, in error_handler\n      return fn(*args, **kwargs)\n    File \"C:\\Users\\7MAKSACOD PC\\miniconda3\\lib\\site-packages\\keras\\engine\\sequential.py\", line 374, in call\n      return super(Sequential, self).call(inputs, training=training, mask=mask)\n    File \"C:\\Users\\7MAKSACOD PC\\miniconda3\\lib\\site-packages\\keras\\engine\\functional.py\", line 458, in call\n      return self._run_internal_graph(\n    File \"C:\\Users\\7MAKSACOD PC\\miniconda3\\lib\\site-packages\\keras\\engine\\functional.py\", line 596, in _run_internal_graph\n      outputs = node.layer(*args, **kwargs)\n    File \"C:\\Users\\7MAKSACOD PC\\miniconda3\\lib\\site-packages\\keras\\layers\\rnn\\bidirectional.py\", line 249, in __call__\n      return super(Bidirectional, self).__call__(inputs, **kwargs)\n    File \"C:\\Users\\7MAKSACOD PC\\miniconda3\\lib\\site-packages\\keras\\utils\\traceback_utils.py\", line 64, in error_handler\n      return fn(*args, **kwargs)\n    File \"C:\\Users\\7MAKSACOD PC\\miniconda3\\lib\\site-packages\\keras\\engine\\base_layer.py\", line 1014, in __call__\n      outputs = call_fn(inputs, *args, **kwargs)\n    File \"C:\\Users\\7MAKSACOD PC\\miniconda3\\lib\\site-packages\\keras\\utils\\traceback_utils.py\", line 92, in error_handler\n      return fn(*args, **kwargs)\n    File \"C:\\Users\\7MAKSACOD PC\\miniconda3\\lib\\site-packages\\keras\\layers\\rnn\\bidirectional.py\", line 366, in call\n      y_rev = self.backward_layer(backward_inputs,\n    File \"C:\\Users\\7MAKSACOD PC\\miniconda3\\lib\\site-packages\\keras\\layers\\rnn\\base_rnn.py\", line 515, in __call__\n      return super(RNN, self).__call__(inputs, **kwargs)\n    File \"C:\\Users\\7MAKSACOD PC\\miniconda3\\lib\\site-packages\\keras\\utils\\traceback_utils.py\", line 64, in error_handler\n      return fn(*args, **kwargs)\n    File \"C:\\Users\\7MAKSACOD PC\\miniconda3\\lib\\site-packages\\keras\\engine\\base_layer.py\", line 1014, in __call__\n      outputs = call_fn(inputs, *args, **kwargs)\n    File \"C:\\Users\\7MAKSACOD PC\\miniconda3\\lib\\site-packages\\keras\\utils\\traceback_utils.py\", line 92, in error_handler\n      return fn(*args, **kwargs)\n    File \"C:\\Users\\7MAKSACOD PC\\miniconda3\\lib\\site-packages\\keras\\layers\\rnn\\lstm.py\", line 574, in call\n      last_output, outputs, states = backend.rnn(\n    File \"C:\\Users\\7MAKSACOD PC\\miniconda3\\lib\\site-packages\\keras\\backend.py\", line 4476, in rnn\n      inputs = tf.nest.map_structure(swap_batch_timestep, inputs)\n    File \"C:\\Users\\7MAKSACOD PC\\miniconda3\\lib\\site-packages\\keras\\backend.py\", line 4473, in swap_batch_timestep\n      return tf.compat.v1.transpose(input_t, axes)\nNode: 'sequential_2/bidirectional_2/backward_lstm_2/transpose'\ntranspose expects a vector of size 2. But input(1) is a vector of size 3\n\t [[{{node sequential_2/bidirectional_2/backward_lstm_2/transpose}}]] [Op:__inference_predict_function_68590]",
     "output_type": "error",
     "traceback": [
      "\u001b[1;31m---------------------------------------------------------------------------\u001b[0m",
      "\u001b[1;31mInvalidArgumentError\u001b[0m                      Traceback (most recent call last)",
      "Cell \u001b[1;32mIn [139], line 3\u001b[0m\n\u001b[0;32m      1\u001b[0m Junior\u001b[38;5;241m=\u001b[39mnp\u001b[38;5;241m.\u001b[39marray(nametonum(\u001b[38;5;124m\"\u001b[39m\u001b[38;5;124mJunior\u001b[39m\u001b[38;5;124m\"\u001b[39m))\n\u001b[0;32m      2\u001b[0m Junior\u001b[38;5;241m.\u001b[39mreshape(\u001b[38;5;241m1\u001b[39m, \u001b[38;5;241m50\u001b[39m)\n\u001b[1;32m----> 3\u001b[0m \u001b[43mmodel\u001b[49m\u001b[38;5;241;43m.\u001b[39;49m\u001b[43mpredict\u001b[49m\u001b[43m(\u001b[49m\u001b[43mJunior\u001b[49m\u001b[43m)\u001b[49m\n",
      "File \u001b[1;32m~\\miniconda3\\lib\\site-packages\\keras\\utils\\traceback_utils.py:67\u001b[0m, in \u001b[0;36mfilter_traceback.<locals>.error_handler\u001b[1;34m(*args, **kwargs)\u001b[0m\n\u001b[0;32m     65\u001b[0m \u001b[38;5;28;01mexcept\u001b[39;00m \u001b[38;5;167;01mException\u001b[39;00m \u001b[38;5;28;01mas\u001b[39;00m e:  \u001b[38;5;66;03m# pylint: disable=broad-except\u001b[39;00m\n\u001b[0;32m     66\u001b[0m   filtered_tb \u001b[38;5;241m=\u001b[39m _process_traceback_frames(e\u001b[38;5;241m.\u001b[39m__traceback__)\n\u001b[1;32m---> 67\u001b[0m   \u001b[38;5;28;01mraise\u001b[39;00m e\u001b[38;5;241m.\u001b[39mwith_traceback(filtered_tb) \u001b[38;5;28;01mfrom\u001b[39;00m \u001b[38;5;28mNone\u001b[39m\n\u001b[0;32m     68\u001b[0m \u001b[38;5;28;01mfinally\u001b[39;00m:\n\u001b[0;32m     69\u001b[0m   \u001b[38;5;28;01mdel\u001b[39;00m filtered_tb\n",
      "File \u001b[1;32m~\\miniconda3\\lib\\site-packages\\tensorflow\\python\\eager\\execute.py:54\u001b[0m, in \u001b[0;36mquick_execute\u001b[1;34m(op_name, num_outputs, inputs, attrs, ctx, name)\u001b[0m\n\u001b[0;32m     52\u001b[0m \u001b[38;5;28;01mtry\u001b[39;00m:\n\u001b[0;32m     53\u001b[0m   ctx\u001b[38;5;241m.\u001b[39mensure_initialized()\n\u001b[1;32m---> 54\u001b[0m   tensors \u001b[38;5;241m=\u001b[39m pywrap_tfe\u001b[38;5;241m.\u001b[39mTFE_Py_Execute(ctx\u001b[38;5;241m.\u001b[39m_handle, device_name, op_name,\n\u001b[0;32m     55\u001b[0m                                       inputs, attrs, num_outputs)\n\u001b[0;32m     56\u001b[0m \u001b[38;5;28;01mexcept\u001b[39;00m core\u001b[38;5;241m.\u001b[39m_NotOkStatusException \u001b[38;5;28;01mas\u001b[39;00m e:\n\u001b[0;32m     57\u001b[0m   \u001b[38;5;28;01mif\u001b[39;00m name \u001b[38;5;129;01mis\u001b[39;00m \u001b[38;5;129;01mnot\u001b[39;00m \u001b[38;5;28;01mNone\u001b[39;00m:\n",
      "\u001b[1;31mInvalidArgumentError\u001b[0m: Graph execution error:\n\nDetected at node 'sequential_2/bidirectional_2/backward_lstm_2/transpose' defined at (most recent call last):\n    File \"C:\\Users\\7MAKSACOD PC\\miniconda3\\lib\\runpy.py\", line 197, in _run_module_as_main\n      return _run_code(code, main_globals, None,\n    File \"C:\\Users\\7MAKSACOD PC\\miniconda3\\lib\\runpy.py\", line 87, in _run_code\n      exec(code, run_globals)\n    File \"C:\\Users\\7MAKSACOD PC\\miniconda3\\lib\\site-packages\\ipykernel_launcher.py\", line 17, in <module>\n      app.launch_new_instance()\n    File \"C:\\Users\\7MAKSACOD PC\\miniconda3\\lib\\site-packages\\traitlets\\config\\application.py\", line 846, in launch_instance\n      app.start()\n    File \"C:\\Users\\7MAKSACOD PC\\miniconda3\\lib\\site-packages\\ipykernel\\kernelapp.py\", line 712, in start\n      self.io_loop.start()\n    File \"C:\\Users\\7MAKSACOD PC\\miniconda3\\lib\\site-packages\\tornado\\platform\\asyncio.py\", line 215, in start\n      self.asyncio_loop.run_forever()\n    File \"C:\\Users\\7MAKSACOD PC\\miniconda3\\lib\\asyncio\\base_events.py\", line 601, in run_forever\n      self._run_once()\n    File \"C:\\Users\\7MAKSACOD PC\\miniconda3\\lib\\asyncio\\base_events.py\", line 1905, in _run_once\n      handle._run()\n    File \"C:\\Users\\7MAKSACOD PC\\miniconda3\\lib\\asyncio\\events.py\", line 80, in _run\n      self._context.run(self._callback, *self._args)\n    File \"C:\\Users\\7MAKSACOD PC\\miniconda3\\lib\\site-packages\\ipykernel\\kernelbase.py\", line 510, in dispatch_queue\n      await self.process_one()\n    File \"C:\\Users\\7MAKSACOD PC\\miniconda3\\lib\\site-packages\\ipykernel\\kernelbase.py\", line 499, in process_one\n      await dispatch(*args)\n    File \"C:\\Users\\7MAKSACOD PC\\miniconda3\\lib\\site-packages\\ipykernel\\kernelbase.py\", line 406, in dispatch_shell\n      await result\n    File \"C:\\Users\\7MAKSACOD PC\\miniconda3\\lib\\site-packages\\ipykernel\\kernelbase.py\", line 730, in execute_request\n      reply_content = await reply_content\n    File \"C:\\Users\\7MAKSACOD PC\\miniconda3\\lib\\site-packages\\ipykernel\\ipkernel.py\", line 383, in do_execute\n      res = shell.run_cell(\n    File \"C:\\Users\\7MAKSACOD PC\\miniconda3\\lib\\site-packages\\ipykernel\\zmqshell.py\", line 528, in run_cell\n      return super().run_cell(*args, **kwargs)\n    File \"C:\\Users\\7MAKSACOD PC\\miniconda3\\lib\\site-packages\\IPython\\core\\interactiveshell.py\", line 2940, in run_cell\n      result = self._run_cell(\n    File \"C:\\Users\\7MAKSACOD PC\\miniconda3\\lib\\site-packages\\IPython\\core\\interactiveshell.py\", line 2995, in _run_cell\n      return runner(coro)\n    File \"C:\\Users\\7MAKSACOD PC\\miniconda3\\lib\\site-packages\\IPython\\core\\async_helpers.py\", line 129, in _pseudo_sync_runner\n      coro.send(None)\n    File \"C:\\Users\\7MAKSACOD PC\\miniconda3\\lib\\site-packages\\IPython\\core\\interactiveshell.py\", line 3194, in run_cell_async\n      has_raised = await self.run_ast_nodes(code_ast.body, cell_name,\n    File \"C:\\Users\\7MAKSACOD PC\\miniconda3\\lib\\site-packages\\IPython\\core\\interactiveshell.py\", line 3373, in run_ast_nodes\n      if await self.run_code(code, result, async_=asy):\n    File \"C:\\Users\\7MAKSACOD PC\\miniconda3\\lib\\site-packages\\IPython\\core\\interactiveshell.py\", line 3433, in run_code\n      exec(code_obj, self.user_global_ns, self.user_ns)\n    File \"C:\\Users\\7MAKSACOD PC\\AppData\\Local\\Temp\\ipykernel_4100\\3266073506.py\", line 2, in <module>\n      model.predict(Junior)\n    File \"C:\\Users\\7MAKSACOD PC\\miniconda3\\lib\\site-packages\\keras\\utils\\traceback_utils.py\", line 64, in error_handler\n      return fn(*args, **kwargs)\n    File \"C:\\Users\\7MAKSACOD PC\\miniconda3\\lib\\site-packages\\keras\\engine\\training.py\", line 2033, in predict\n      tmp_batch_outputs = self.predict_function(iterator)\n    File \"C:\\Users\\7MAKSACOD PC\\miniconda3\\lib\\site-packages\\keras\\engine\\training.py\", line 1845, in predict_function\n      return step_function(self, iterator)\n    File \"C:\\Users\\7MAKSACOD PC\\miniconda3\\lib\\site-packages\\keras\\engine\\training.py\", line 1834, in step_function\n      outputs = model.distribute_strategy.run(run_step, args=(data,))\n    File \"C:\\Users\\7MAKSACOD PC\\miniconda3\\lib\\site-packages\\keras\\engine\\training.py\", line 1823, in run_step\n      outputs = model.predict_step(data)\n    File \"C:\\Users\\7MAKSACOD PC\\miniconda3\\lib\\site-packages\\keras\\engine\\training.py\", line 1791, in predict_step\n      return self(x, training=False)\n    File \"C:\\Users\\7MAKSACOD PC\\miniconda3\\lib\\site-packages\\keras\\utils\\traceback_utils.py\", line 64, in error_handler\n      return fn(*args, **kwargs)\n    File \"C:\\Users\\7MAKSACOD PC\\miniconda3\\lib\\site-packages\\keras\\engine\\training.py\", line 490, in __call__\n      return super().__call__(*args, **kwargs)\n    File \"C:\\Users\\7MAKSACOD PC\\miniconda3\\lib\\site-packages\\keras\\utils\\traceback_utils.py\", line 64, in error_handler\n      return fn(*args, **kwargs)\n    File \"C:\\Users\\7MAKSACOD PC\\miniconda3\\lib\\site-packages\\keras\\engine\\base_layer.py\", line 1014, in __call__\n      outputs = call_fn(inputs, *args, **kwargs)\n    File \"C:\\Users\\7MAKSACOD PC\\miniconda3\\lib\\site-packages\\keras\\utils\\traceback_utils.py\", line 92, in error_handler\n      return fn(*args, **kwargs)\n    File \"C:\\Users\\7MAKSACOD PC\\miniconda3\\lib\\site-packages\\keras\\engine\\sequential.py\", line 374, in call\n      return super(Sequential, self).call(inputs, training=training, mask=mask)\n    File \"C:\\Users\\7MAKSACOD PC\\miniconda3\\lib\\site-packages\\keras\\engine\\functional.py\", line 458, in call\n      return self._run_internal_graph(\n    File \"C:\\Users\\7MAKSACOD PC\\miniconda3\\lib\\site-packages\\keras\\engine\\functional.py\", line 596, in _run_internal_graph\n      outputs = node.layer(*args, **kwargs)\n    File \"C:\\Users\\7MAKSACOD PC\\miniconda3\\lib\\site-packages\\keras\\layers\\rnn\\bidirectional.py\", line 249, in __call__\n      return super(Bidirectional, self).__call__(inputs, **kwargs)\n    File \"C:\\Users\\7MAKSACOD PC\\miniconda3\\lib\\site-packages\\keras\\utils\\traceback_utils.py\", line 64, in error_handler\n      return fn(*args, **kwargs)\n    File \"C:\\Users\\7MAKSACOD PC\\miniconda3\\lib\\site-packages\\keras\\engine\\base_layer.py\", line 1014, in __call__\n      outputs = call_fn(inputs, *args, **kwargs)\n    File \"C:\\Users\\7MAKSACOD PC\\miniconda3\\lib\\site-packages\\keras\\utils\\traceback_utils.py\", line 92, in error_handler\n      return fn(*args, **kwargs)\n    File \"C:\\Users\\7MAKSACOD PC\\miniconda3\\lib\\site-packages\\keras\\layers\\rnn\\bidirectional.py\", line 366, in call\n      y_rev = self.backward_layer(backward_inputs,\n    File \"C:\\Users\\7MAKSACOD PC\\miniconda3\\lib\\site-packages\\keras\\layers\\rnn\\base_rnn.py\", line 515, in __call__\n      return super(RNN, self).__call__(inputs, **kwargs)\n    File \"C:\\Users\\7MAKSACOD PC\\miniconda3\\lib\\site-packages\\keras\\utils\\traceback_utils.py\", line 64, in error_handler\n      return fn(*args, **kwargs)\n    File \"C:\\Users\\7MAKSACOD PC\\miniconda3\\lib\\site-packages\\keras\\engine\\base_layer.py\", line 1014, in __call__\n      outputs = call_fn(inputs, *args, **kwargs)\n    File \"C:\\Users\\7MAKSACOD PC\\miniconda3\\lib\\site-packages\\keras\\utils\\traceback_utils.py\", line 92, in error_handler\n      return fn(*args, **kwargs)\n    File \"C:\\Users\\7MAKSACOD PC\\miniconda3\\lib\\site-packages\\keras\\layers\\rnn\\lstm.py\", line 574, in call\n      last_output, outputs, states = backend.rnn(\n    File \"C:\\Users\\7MAKSACOD PC\\miniconda3\\lib\\site-packages\\keras\\backend.py\", line 4476, in rnn\n      inputs = tf.nest.map_structure(swap_batch_timestep, inputs)\n    File \"C:\\Users\\7MAKSACOD PC\\miniconda3\\lib\\site-packages\\keras\\backend.py\", line 4473, in swap_batch_timestep\n      return tf.compat.v1.transpose(input_t, axes)\nNode: 'sequential_2/bidirectional_2/backward_lstm_2/transpose'\ntranspose expects a vector of size 2. But input(1) is a vector of size 3\n\t [[{{node sequential_2/bidirectional_2/backward_lstm_2/transpose}}]] [Op:__inference_predict_function_68590]"
     ]
    }
   ],
   "source": [
    "Junior=np.array(nametonum(\"Junior\"))\n",
    "Junior.reshape(1, 50)\n",
    "model.predict(Junior)"
   ]
  },
  {
   "cell_type": "code",
   "execution_count": 140,
   "id": "3bf2545a",
   "metadata": {},
   "outputs": [
    {
     "data": {
      "text/plain": [
       "array([[ 0,  0,  0, ...,  3, 17,  0],\n",
       "       [ 0,  0,  0, ..., 13,  0,  4],\n",
       "       [ 0,  0,  0, ..., 19,  4, 13],\n",
       "       ...,\n",
       "       [ 0,  0,  0, ...,  7,  0, 21],\n",
       "       [ 0,  0,  0, ..., 14, 12,  0],\n",
       "       [ 0,  0,  0, ...,  4,  3, 24]])"
      ]
     },
     "execution_count": 140,
     "metadata": {},
     "output_type": "execute_result"
    }
   ],
   "source": [
    "X_test"
   ]
  },
  {
   "cell_type": "code",
   "execution_count": 138,
   "id": "e60c5ec4",
   "metadata": {},
   "outputs": [
    {
     "data": {
      "text/plain": [
       "array([[ 0,  0,  0,  0,  0,  0,  0,  0,  0,  0,  0,  0,  0,  0,  0,  0,\n",
       "         0,  0,  0,  0,  0,  0,  0,  0,  0,  0,  0,  0,  0,  0,  0,  0,\n",
       "         0,  0,  0,  0,  0,  0,  0,  0,  0,  0,  0,  0,  9, 20, 13,  8,\n",
       "        14, 17]])"
      ]
     },
     "execution_count": 138,
     "metadata": {},
     "output_type": "execute_result"
    }
   ],
   "source": [
    "Junior.reshape(1, 50)"
   ]
  },
  {
   "cell_type": "code",
   "execution_count": null,
   "id": "898e7e4e",
   "metadata": {},
   "outputs": [],
   "source": []
  }
 ],
 "metadata": {
  "celltoolbar": "Raw Cell Format",
  "kernelspec": {
   "display_name": "Python 3 (ipykernel)",
   "language": "python",
   "name": "python3"
  },
  "language_info": {
   "codemirror_mode": {
    "name": "ipython",
    "version": 3
   },
   "file_extension": ".py",
   "mimetype": "text/x-python",
   "name": "python",
   "nbconvert_exporter": "python",
   "pygments_lexer": "ipython3",
   "version": "3.9.12"
  }
 },
 "nbformat": 4,
 "nbformat_minor": 5
}
