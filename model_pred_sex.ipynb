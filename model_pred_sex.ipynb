{
 "cells": [
  {
   "cell_type": "code",
   "execution_count": 175,
   "id": "50c9affc",
   "metadata": {},
   "outputs": [],
   "source": [
    "import pandas as pd\n",
    "import pandas as pd\n",
    "import string\n",
    "import numpy as np\n",
    "from matplotlib import pyplot as plt\n",
    "from sklearn.model_selection import train_test_split\n",
    "from tensorflow.keras.callbacks import EarlyStopping\n",
    "from tensorflow.keras import Sequential\n",
    "from tensorflow.keras.layers import Embedding, Bidirectional, LSTM, Dense\n",
    "from tensorflow.keras.optimizers import Adam\n",
    "import tensorflow as tf"
   ]
  },
  {
   "cell_type": "code",
   "execution_count": 2,
   "id": "2f3ed484",
   "metadata": {},
   "outputs": [
    {
     "name": "stderr",
     "output_type": "stream",
     "text": [
      "C:\\Users\\7MAKSACOD PC\\miniconda3\\lib\\site-packages\\scipy\\__init__.py:146: UserWarning: A NumPy version >=1.16.5 and <1.23.0 is required for this version of SciPy (detected version 1.23.4\n",
      "  warnings.warn(f\"A NumPy version >={np_minversion} and <{np_maxversion}\"\n"
     ]
    }
   ],
   "source": []
  },
  {
   "cell_type": "code",
   "execution_count": 145,
   "id": "04de5049",
   "metadata": {},
   "outputs": [],
   "source": [
    "names=pd.read_csv(f\"/Users/7MAKSACOD PC/Downloads/names_data.csv\")"
   ]
  },
  {
   "cell_type": "code",
   "execution_count": 146,
   "id": "824bca3e",
   "metadata": {},
   "outputs": [
    {
     "data": {
      "text/html": [
       "<div>\n",
       "<style scoped>\n",
       "    .dataframe tbody tr th:only-of-type {\n",
       "        vertical-align: middle;\n",
       "    }\n",
       "\n",
       "    .dataframe tbody tr th {\n",
       "        vertical-align: top;\n",
       "    }\n",
       "\n",
       "    .dataframe thead th {\n",
       "        text-align: right;\n",
       "    }\n",
       "</style>\n",
       "<table border=\"1\" class=\"dataframe\">\n",
       "  <thead>\n",
       "    <tr style=\"text-align: right;\">\n",
       "      <th></th>\n",
       "      <th>name</th>\n",
       "      <th>gender</th>\n",
       "      <th>num_names</th>\n",
       "    </tr>\n",
       "  </thead>\n",
       "  <tbody>\n",
       "    <tr>\n",
       "      <th>0</th>\n",
       "      <td>Mary</td>\n",
       "      <td>F</td>\n",
       "      <td>5644</td>\n",
       "    </tr>\n",
       "    <tr>\n",
       "      <th>1</th>\n",
       "      <td>Annie</td>\n",
       "      <td>F</td>\n",
       "      <td>4034</td>\n",
       "    </tr>\n",
       "    <tr>\n",
       "      <th>2</th>\n",
       "      <td>Anna</td>\n",
       "      <td>F</td>\n",
       "      <td>5615</td>\n",
       "    </tr>\n",
       "    <tr>\n",
       "      <th>3</th>\n",
       "      <td>Margaret</td>\n",
       "      <td>F</td>\n",
       "      <td>5558</td>\n",
       "    </tr>\n",
       "    <tr>\n",
       "      <th>4</th>\n",
       "      <td>Helen</td>\n",
       "      <td>F</td>\n",
       "      <td>4914</td>\n",
       "    </tr>\n",
       "  </tbody>\n",
       "</table>\n",
       "</div>"
      ],
      "text/plain": [
       "       name gender  num_names\n",
       "0      Mary      F       5644\n",
       "1     Annie      F       4034\n",
       "2      Anna      F       5615\n",
       "3  Margaret      F       5558\n",
       "4     Helen      F       4914"
      ]
     },
     "execution_count": 146,
     "metadata": {},
     "output_type": "execute_result"
    }
   ],
   "source": [
    "names.head()"
   ]
  },
  {
   "cell_type": "code",
   "execution_count": 147,
   "id": "1eb21d92",
   "metadata": {},
   "outputs": [],
   "source": [
    "alphabet=list(string.ascii_lowercase)"
   ]
  },
  {
   "cell_type": "code",
   "execution_count": 148,
   "id": "bb3beee6",
   "metadata": {},
   "outputs": [],
   "source": [
    "names[\"name\"]=names[\"name\"].str.lower()\n",
    "data=names.iloc[:, :2]\n",
    "\n",
    "## Binary encoder function\n",
    "\n",
    "def encod_sex(ch):\n",
    "  if ch==\"F\":\n",
    "    return 0\n",
    "## 0 mean female and 1 for male\n",
    "  else:\n",
    "    return 1\n",
    "\n",
    "data[\"gender\"]= data[\"gender\"].apply(encod_sex)"
   ]
  },
  {
   "cell_type": "code",
   "execution_count": 149,
   "id": "c08ca945",
   "metadata": {},
   "outputs": [
    {
     "data": {
      "text/html": [
       "<div>\n",
       "<style scoped>\n",
       "    .dataframe tbody tr th:only-of-type {\n",
       "        vertical-align: middle;\n",
       "    }\n",
       "\n",
       "    .dataframe tbody tr th {\n",
       "        vertical-align: top;\n",
       "    }\n",
       "\n",
       "    .dataframe thead th {\n",
       "        text-align: right;\n",
       "    }\n",
       "</style>\n",
       "<table border=\"1\" class=\"dataframe\">\n",
       "  <thead>\n",
       "    <tr style=\"text-align: right;\">\n",
       "      <th></th>\n",
       "      <th>name</th>\n",
       "      <th>gender</th>\n",
       "    </tr>\n",
       "  </thead>\n",
       "  <tbody>\n",
       "    <tr>\n",
       "      <th>0</th>\n",
       "      <td>mary</td>\n",
       "      <td>0</td>\n",
       "    </tr>\n",
       "    <tr>\n",
       "      <th>1</th>\n",
       "      <td>annie</td>\n",
       "      <td>0</td>\n",
       "    </tr>\n",
       "    <tr>\n",
       "      <th>2</th>\n",
       "      <td>anna</td>\n",
       "      <td>0</td>\n",
       "    </tr>\n",
       "    <tr>\n",
       "      <th>3</th>\n",
       "      <td>margaret</td>\n",
       "      <td>0</td>\n",
       "    </tr>\n",
       "    <tr>\n",
       "      <th>4</th>\n",
       "      <td>helen</td>\n",
       "      <td>0</td>\n",
       "    </tr>\n",
       "  </tbody>\n",
       "</table>\n",
       "</div>"
      ],
      "text/plain": [
       "       name  gender\n",
       "0      mary       0\n",
       "1     annie       0\n",
       "2      anna       0\n",
       "3  margaret       0\n",
       "4     helen       0"
      ]
     },
     "execution_count": 149,
     "metadata": {},
     "output_type": "execute_result"
    }
   ],
   "source": [
    "data.head()"
   ]
  },
  {
   "cell_type": "code",
   "execution_count": null,
   "id": "986bfe04",
   "metadata": {},
   "outputs": [],
   "source": []
  },
  {
   "cell_type": "code",
   "execution_count": null,
   "id": "09b89371",
   "metadata": {},
   "outputs": [],
   "source": []
  },
  {
   "cell_type": "code",
   "execution_count": null,
   "id": "6fc50a5b",
   "metadata": {},
   "outputs": [],
   "source": []
  },
  {
   "cell_type": "code",
   "execution_count": 150,
   "id": "abc035d8",
   "metadata": {},
   "outputs": [],
   "source": [
    "def encod_names(name):\n",
    "    name_split=list(name)\n",
    "    name_encoded=[alphabet.index(name_split[i])+1 for i in range(len(name_split))]\n",
    "    return name_encoded\n",
    "\n",
    "data[\"name_encoded\"]=data[\"name\"].apply(encod_names)"
   ]
  },
  {
   "cell_type": "code",
   "execution_count": 151,
   "id": "5591ce5b",
   "metadata": {},
   "outputs": [
    {
     "data": {
      "text/html": [
       "<div>\n",
       "<style scoped>\n",
       "    .dataframe tbody tr th:only-of-type {\n",
       "        vertical-align: middle;\n",
       "    }\n",
       "\n",
       "    .dataframe tbody tr th {\n",
       "        vertical-align: top;\n",
       "    }\n",
       "\n",
       "    .dataframe thead th {\n",
       "        text-align: right;\n",
       "    }\n",
       "</style>\n",
       "<table border=\"1\" class=\"dataframe\">\n",
       "  <thead>\n",
       "    <tr style=\"text-align: right;\">\n",
       "      <th></th>\n",
       "      <th>name</th>\n",
       "      <th>gender</th>\n",
       "      <th>name_encoded</th>\n",
       "    </tr>\n",
       "  </thead>\n",
       "  <tbody>\n",
       "    <tr>\n",
       "      <th>0</th>\n",
       "      <td>mary</td>\n",
       "      <td>0</td>\n",
       "      <td>[13, 1, 18, 25]</td>\n",
       "    </tr>\n",
       "    <tr>\n",
       "      <th>1</th>\n",
       "      <td>annie</td>\n",
       "      <td>0</td>\n",
       "      <td>[1, 14, 14, 9, 5]</td>\n",
       "    </tr>\n",
       "    <tr>\n",
       "      <th>2</th>\n",
       "      <td>anna</td>\n",
       "      <td>0</td>\n",
       "      <td>[1, 14, 14, 1]</td>\n",
       "    </tr>\n",
       "    <tr>\n",
       "      <th>3</th>\n",
       "      <td>margaret</td>\n",
       "      <td>0</td>\n",
       "      <td>[13, 1, 18, 7, 1, 18, 5, 20]</td>\n",
       "    </tr>\n",
       "    <tr>\n",
       "      <th>4</th>\n",
       "      <td>helen</td>\n",
       "      <td>0</td>\n",
       "      <td>[8, 5, 12, 5, 14]</td>\n",
       "    </tr>\n",
       "  </tbody>\n",
       "</table>\n",
       "</div>"
      ],
      "text/plain": [
       "       name  gender                  name_encoded\n",
       "0      mary       0               [13, 1, 18, 25]\n",
       "1     annie       0             [1, 14, 14, 9, 5]\n",
       "2      anna       0                [1, 14, 14, 1]\n",
       "3  margaret       0  [13, 1, 18, 7, 1, 18, 5, 20]\n",
       "4     helen       0             [8, 5, 12, 5, 14]"
      ]
     },
     "execution_count": 151,
     "metadata": {},
     "output_type": "execute_result"
    }
   ],
   "source": [
    "data.head()"
   ]
  },
  {
   "cell_type": "code",
   "execution_count": 152,
   "id": "264ce84b",
   "metadata": {},
   "outputs": [],
   "source": [
    "def comp_list(x):\n",
    "    if len(x)< 50:\n",
    "        x=[0]*(50-len(x))+x\n",
    "    return x"
   ]
  },
  {
   "cell_type": "code",
   "execution_count": 153,
   "id": "a7d9e6f7",
   "metadata": {},
   "outputs": [],
   "source": [
    "data[\"name_encoded\"]=data[\"name_encoded\"].apply(comp_list)"
   ]
  },
  {
   "cell_type": "code",
   "execution_count": 154,
   "id": "3952b4b6",
   "metadata": {},
   "outputs": [
    {
     "data": {
      "text/html": [
       "<div>\n",
       "<style scoped>\n",
       "    .dataframe tbody tr th:only-of-type {\n",
       "        vertical-align: middle;\n",
       "    }\n",
       "\n",
       "    .dataframe tbody tr th {\n",
       "        vertical-align: top;\n",
       "    }\n",
       "\n",
       "    .dataframe thead th {\n",
       "        text-align: right;\n",
       "    }\n",
       "</style>\n",
       "<table border=\"1\" class=\"dataframe\">\n",
       "  <thead>\n",
       "    <tr style=\"text-align: right;\">\n",
       "      <th></th>\n",
       "      <th>name</th>\n",
       "      <th>gender</th>\n",
       "      <th>name_encoded</th>\n",
       "    </tr>\n",
       "  </thead>\n",
       "  <tbody>\n",
       "    <tr>\n",
       "      <th>0</th>\n",
       "      <td>mary</td>\n",
       "      <td>0</td>\n",
       "      <td>[0, 0, 0, 0, 0, 0, 0, 0, 0, 0, 0, 0, 0, 0, 0, ...</td>\n",
       "    </tr>\n",
       "    <tr>\n",
       "      <th>1</th>\n",
       "      <td>annie</td>\n",
       "      <td>0</td>\n",
       "      <td>[0, 0, 0, 0, 0, 0, 0, 0, 0, 0, 0, 0, 0, 0, 0, ...</td>\n",
       "    </tr>\n",
       "    <tr>\n",
       "      <th>2</th>\n",
       "      <td>anna</td>\n",
       "      <td>0</td>\n",
       "      <td>[0, 0, 0, 0, 0, 0, 0, 0, 0, 0, 0, 0, 0, 0, 0, ...</td>\n",
       "    </tr>\n",
       "    <tr>\n",
       "      <th>3</th>\n",
       "      <td>margaret</td>\n",
       "      <td>0</td>\n",
       "      <td>[0, 0, 0, 0, 0, 0, 0, 0, 0, 0, 0, 0, 0, 0, 0, ...</td>\n",
       "    </tr>\n",
       "    <tr>\n",
       "      <th>4</th>\n",
       "      <td>helen</td>\n",
       "      <td>0</td>\n",
       "      <td>[0, 0, 0, 0, 0, 0, 0, 0, 0, 0, 0, 0, 0, 0, 0, ...</td>\n",
       "    </tr>\n",
       "  </tbody>\n",
       "</table>\n",
       "</div>"
      ],
      "text/plain": [
       "       name  gender                                       name_encoded\n",
       "0      mary       0  [0, 0, 0, 0, 0, 0, 0, 0, 0, 0, 0, 0, 0, 0, 0, ...\n",
       "1     annie       0  [0, 0, 0, 0, 0, 0, 0, 0, 0, 0, 0, 0, 0, 0, 0, ...\n",
       "2      anna       0  [0, 0, 0, 0, 0, 0, 0, 0, 0, 0, 0, 0, 0, 0, 0, ...\n",
       "3  margaret       0  [0, 0, 0, 0, 0, 0, 0, 0, 0, 0, 0, 0, 0, 0, 0, ...\n",
       "4     helen       0  [0, 0, 0, 0, 0, 0, 0, 0, 0, 0, 0, 0, 0, 0, 0, ..."
      ]
     },
     "execution_count": 154,
     "metadata": {},
     "output_type": "execute_result"
    }
   ],
   "source": [
    "data.head()"
   ]
  },
  {
   "cell_type": "code",
   "execution_count": 155,
   "id": "7f6d7f52",
   "metadata": {},
   "outputs": [],
   "source": [
    "def lstm_model(num_alphabets=27, name_length=50, embedding_dim=256):\n",
    "    model = Sequential([\n",
    "        Embedding(num_alphabets, embedding_dim, input_length=name_length),\n",
    "        Bidirectional(LSTM(units=128, recurrent_dropout=0.2, dropout=0.2)),\n",
    "        Dense(1, activation=\"sigmoid\")\n",
    "    ])\n",
    "\n",
    "    model.compile(loss='binary_crossentropy',\n",
    "                  optimizer=Adam(learning_rate=0.001),\n",
    "                  metrics=['accuracy'])\n",
    "\n",
    "    return model\n",
    "\n",
    "# Step 1: Instantiate the model\n",
    "model = lstm_model(num_alphabets=27, name_length=50, embedding_dim=256)"
   ]
  },
  {
   "cell_type": "code",
   "execution_count": 156,
   "id": "f3ded9ba",
   "metadata": {},
   "outputs": [],
   "source": [
    "X =np.array(data[\"name_encoded\"].tolist())\n",
    "y = data['gender'].values"
   ]
  },
  {
   "cell_type": "code",
   "execution_count": 157,
   "id": "99a5c0ac",
   "metadata": {},
   "outputs": [],
   "source": [
    "X=np.array(data[\"name_encoded\"].tolist())"
   ]
  },
  {
   "cell_type": "code",
   "execution_count": 68,
   "id": "bb1c0efb",
   "metadata": {},
   "outputs": [
    {
     "data": {
      "text/plain": [
       "array([0, 0, 0, ..., 1, 1, 1], dtype=int64)"
      ]
     },
     "execution_count": 68,
     "metadata": {},
     "output_type": "execute_result"
    }
   ],
   "source": []
  },
  {
   "cell_type": "code",
   "execution_count": 158,
   "id": "28279b12",
   "metadata": {},
   "outputs": [],
   "source": [
    "X_train, X_test, y_train, y_test = train_test_split(X, y, test_size=0.2, random_state=42)\n"
   ]
  },
  {
   "cell_type": "code",
   "execution_count": 159,
   "id": "fe53563c",
   "metadata": {},
   "outputs": [
    {
     "name": "stdout",
     "output_type": "stream",
     "text": [
      "Epoch 1/50\n",
      "445/445 [==============================] - 242s 528ms/step - loss: 0.5076 - accuracy: 0.7508 - val_loss: 0.4730 - val_accuracy: 0.7782\n",
      "Epoch 2/50\n",
      "445/445 [==============================] - 251s 564ms/step - loss: 0.4723 - accuracy: 0.7815 - val_loss: 0.4581 - val_accuracy: 0.7871\n",
      "Epoch 3/50\n",
      "445/445 [==============================] - 237s 532ms/step - loss: 0.4596 - accuracy: 0.7851 - val_loss: 0.4499 - val_accuracy: 0.7955\n",
      "Epoch 4/50\n",
      "445/445 [==============================] - 231s 520ms/step - loss: 0.4478 - accuracy: 0.7933 - val_loss: 0.4400 - val_accuracy: 0.8017\n",
      "Epoch 5/50\n",
      "445/445 [==============================] - 240s 540ms/step - loss: 0.4374 - accuracy: 0.8000 - val_loss: 0.4338 - val_accuracy: 0.8061\n",
      "Epoch 6/50\n",
      "445/445 [==============================] - 235s 527ms/step - loss: 0.4289 - accuracy: 0.8048 - val_loss: 0.4283 - val_accuracy: 0.8087\n",
      "Epoch 7/50\n",
      "445/445 [==============================] - 235s 527ms/step - loss: 0.4195 - accuracy: 0.8088 - val_loss: 0.4241 - val_accuracy: 0.8103\n",
      "Epoch 8/50\n",
      "445/445 [==============================] - 231s 520ms/step - loss: 0.4122 - accuracy: 0.8141 - val_loss: 0.4201 - val_accuracy: 0.8095\n",
      "Epoch 9/50\n",
      "445/445 [==============================] - 234s 525ms/step - loss: 0.4048 - accuracy: 0.8177 - val_loss: 0.4161 - val_accuracy: 0.8147\n",
      "Epoch 10/50\n",
      "445/445 [==============================] - 233s 524ms/step - loss: 0.3975 - accuracy: 0.8223 - val_loss: 0.4153 - val_accuracy: 0.8152\n",
      "Epoch 11/50\n",
      "445/445 [==============================] - 255s 573ms/step - loss: 0.3888 - accuracy: 0.8261 - val_loss: 0.4143 - val_accuracy: 0.8141\n",
      "Epoch 12/50\n",
      "445/445 [==============================] - 246s 553ms/step - loss: 0.3815 - accuracy: 0.8299 - val_loss: 0.4197 - val_accuracy: 0.8138\n",
      "Epoch 13/50\n",
      "445/445 [==============================] - 243s 547ms/step - loss: 0.3749 - accuracy: 0.8316 - val_loss: 0.4139 - val_accuracy: 0.8144\n",
      "Epoch 14/50\n",
      "445/445 [==============================] - 311s 699ms/step - loss: 0.3665 - accuracy: 0.8358 - val_loss: 0.4136 - val_accuracy: 0.8186\n",
      "Epoch 15/50\n",
      "445/445 [==============================] - 348s 781ms/step - loss: 0.3598 - accuracy: 0.8407 - val_loss: 0.4155 - val_accuracy: 0.8197\n",
      "Epoch 16/50\n",
      "445/445 [==============================] - 351s 788ms/step - loss: 0.3527 - accuracy: 0.8430 - val_loss: 0.4131 - val_accuracy: 0.8182\n",
      "Epoch 17/50\n",
      "445/445 [==============================] - 350s 786ms/step - loss: 0.3450 - accuracy: 0.8470 - val_loss: 0.4186 - val_accuracy: 0.8134\n",
      "Epoch 18/50\n",
      "445/445 [==============================] - 348s 783ms/step - loss: 0.3390 - accuracy: 0.8482 - val_loss: 0.4216 - val_accuracy: 0.8124\n",
      "Epoch 19/50\n",
      "445/445 [==============================] - 348s 781ms/step - loss: 0.3347 - accuracy: 0.8511 - val_loss: 0.4267 - val_accuracy: 0.8102\n",
      "Epoch 20/50\n",
      "445/445 [==============================] - ETA: 0s - loss: 0.3276 - accuracy: 0.8542Restoring model weights from the end of the best epoch: 15.\n",
      "445/445 [==============================] - 350s 786ms/step - loss: 0.3276 - accuracy: 0.8542 - val_loss: 0.4244 - val_accuracy: 0.8128\n",
      "Epoch 20: early stopping\n"
     ]
    }
   ],
   "source": [
    "callbacks =[ EarlyStopping(monitor='val_accuracy',\n",
    "                  min_delta=1e-3,\n",
    "                  patience=5,\n",
    "                  mode='max',\n",
    "                  restore_best_weights=True,\n",
    "                  verbose=1)]\n",
    "history = model.fit(x=X_train,\n",
    "                    y=y_train,\n",
    "                    batch_size=64,\n",
    "                    epochs=50,\n",
    "                    validation_data=(X_test, y_test),\n",
    "                    callbacks=callbacks)\n"
   ]
  },
  {
   "cell_type": "code",
   "execution_count": 160,
   "id": "b15926fe",
   "metadata": {},
   "outputs": [],
   "source": [
    "model.save(\"predict_name.h5\")"
   ]
  },
  {
   "cell_type": "code",
   "execution_count": 85,
   "id": "791f74de",
   "metadata": {
    "scrolled": true
   },
   "outputs": [
    {
     "data": {
      "text/plain": [
       "(28444, 50)"
      ]
     },
     "execution_count": 85,
     "metadata": {},
     "output_type": "execute_result"
    }
   ],
   "source": [
    "X_train.shape"
   ]
  },
  {
   "cell_type": "code",
   "execution_count": 162,
   "id": "a3ebc844",
   "metadata": {},
   "outputs": [],
   "source": [
    "loss=history.history[\"loss\"]\n",
    "acc=history.history[\"accuracy\"]\n",
    "val_acc = history.history[\"val_accuracy\"]"
   ]
  },
  {
   "cell_type": "code",
   "execution_count": 88,
   "id": "3d4217b7",
   "metadata": {},
   "outputs": [
    {
     "data": {
      "text/plain": [
       "20"
      ]
     },
     "execution_count": 88,
     "metadata": {},
     "output_type": "execute_result"
    }
   ],
   "source": [
    "len(loss)"
   ]
  },
  {
   "cell_type": "code",
   "execution_count": 163,
   "id": "a19d888d",
   "metadata": {},
   "outputs": [
    {
     "data": {
      "text/plain": [
       "[<matplotlib.lines.Line2D at 0x2075b20f040>]"
      ]
     },
     "execution_count": 163,
     "metadata": {},
     "output_type": "execute_result"
    },
    {
     "data": {
      "image/png": "[encoded data removed]",
      "text/plain": [
       "<Figure size 640x480 with 1 Axes>"
      ]
     },
     "metadata": {},
     "output_type": "display_data"
    }
   ],
   "source": [
    "\n",
    "plt.plot(range(len(acc)), val_acc)\n",
    "plt.plot(range(len(acc)), acc)"
   ]
  },
  {
   "cell_type": "code",
   "execution_count": null,
   "id": "b68d9d06",
   "metadata": {},
   "outputs": [],
   "source": [
    "%model.predict()"
   ]
  },
  {
   "cell_type": "code",
   "execution_count": 196,
   "id": "bea3a0dd",
   "metadata": {},
   "outputs": [],
   "source": [
    "def nametonum(name: str):\n",
    "    name=name.lower()\n",
    "    name_encoded=encod_names(name)\n",
    "    name_encoded=comp_list(name_encoded)\n",
    "    return [name_encoded]"
   ]
  },
  {
   "cell_type": "code",
   "execution_count": 165,
   "id": "89eb792c",
   "metadata": {},
   "outputs": [
    {
     "data": {
      "text/plain": [
       "[10, 21, 14, 9, 15, 18]"
      ]
     },
     "execution_count": 165,
     "metadata": {},
     "output_type": "execute_result"
    }
   ],
   "source": [
    "encod_names(\"junior\")"
   ]
  },
  {
   "cell_type": "code",
   "execution_count": 192,
   "id": "bae4ecf4",
   "metadata": {},
   "outputs": [
    {
     "data": {
      "text/plain": [
       "array([[ 0,  0,  0,  0,  0,  0,  0,  0,  0,  0,  0,  0,  0,  0,  0,  0,\n",
       "         0,  0,  0,  0,  0,  0,  0,  0,  0,  0,  0,  0,  0,  0,  0,  0,\n",
       "         0,  0,  0,  0,  0,  0,  0,  0,  0,  0,  4,  1, 19,  8,  1, 14,\n",
       "         1,  5]])"
      ]
     },
     "execution_count": 192,
     "metadata": {},
     "output_type": "execute_result"
    }
   ],
   "source": [
    "X_test[1, :].reshape(1, 50)"
   ]
  },
  {
   "cell_type": "code",
   "execution_count": 193,
   "id": "634ea5c2",
   "metadata": {},
   "outputs": [
    {
     "name": "stdout",
     "output_type": "stream",
     "text": [
      "1/1 [==============================] - 0s 58ms/step\n"
     ]
    }
   ],
   "source": [
    "test_pre=model.predict(X_test[1, :].reshape(1, 50))"
   ]
  },
  {
   "cell_type": "code",
   "execution_count": 167,
   "id": "d9d6c6d7",
   "metadata": {
    "scrolled": true
   },
   "outputs": [
    {
     "data": {
      "text/plain": [
       "array([[0.15997536],\n",
       "       [0.00576854],\n",
       "       [0.43278244],\n",
       "       ...,\n",
       "       [0.9770272 ],\n",
       "       [0.12420249],\n",
       "       [0.20961541]], dtype=float32)"
      ]
     },
     "execution_count": 167,
     "metadata": {},
     "output_type": "execute_result"
    }
   ],
   "source": [
    "test_pre"
   ]
  },
  {
   "cell_type": "code",
   "execution_count": 168,
   "id": "264f8584",
   "metadata": {},
   "outputs": [
    {
     "data": {
      "text/plain": [
       "array([0, 0, 1, ..., 1, 0, 0], dtype=int64)"
      ]
     },
     "execution_count": 168,
     "metadata": {},
     "output_type": "execute_result"
    }
   ],
   "source": [
    "y_test"
   ]
  },
  {
   "cell_type": "code",
   "execution_count": 170,
   "id": "815a22fa",
   "metadata": {},
   "outputs": [],
   "source": [
    "y_pred=np.apply_along_axis(lambda x: 1 if x>.4 else 0, 1, test_pre)"
   ]
  },
  {
   "cell_type": "code",
   "execution_count": null,
   "id": "76112246",
   "metadata": {},
   "outputs": [],
   "source": [
    "sum(y_pred!=)"
   ]
  },
  {
   "cell_type": "code",
   "execution_count": null,
   "id": "1581b9d0",
   "metadata": {},
   "outputs": [],
   "source": []
  },
  {
   "cell_type": "code",
   "execution_count": null,
   "id": "0c8c4f26",
   "metadata": {},
   "outputs": [],
   "source": []
  },
  {
   "cell_type": "code",
   "execution_count": 118,
   "id": "3b205697",
   "metadata": {},
   "outputs": [],
   "source": [
    "fin=lambda x: 1 if x>.5 else 0"
   ]
  },
  {
   "cell_type": "code",
   "execution_count": null,
   "id": "7abe0694",
   "metadata": {},
   "outputs": [],
   "source": [
    "type(y)"
   ]
  },
  {
   "cell_type": "code",
   "execution_count": 177,
   "id": "246b5b8e",
   "metadata": {},
   "outputs": [],
   "source": [
    "from sklearn.metrics import roc_curve, roc_auc_score, accuracy_score"
   ]
  },
  {
   "cell_type": "code",
   "execution_count": 179,
   "id": "b5d568bf",
   "metadata": {},
   "outputs": [
    {
     "data": {
      "text/plain": [
       "0.8117001828153565"
      ]
     },
     "execution_count": 179,
     "metadata": {},
     "output_type": "execute_result"
    }
   ],
   "source": [
    "accuracy_score(y_test, y_pred)"
   ]
  },
  {
   "cell_type": "code",
   "execution_count": 124,
   "id": "b9bdc522",
   "metadata": {
    "scrolled": true
   },
   "outputs": [
    {
     "data": {
      "text/plain": [
       "(array([0.       , 0.       , 0.       , ..., 0.9798331, 0.9798331,\n",
       "        1.       ]),\n",
       " array([0.00000000e+00, 3.57525921e-04, 1.68037183e-02, ...,\n",
       "        9.99642474e-01, 1.00000000e+00, 1.00000000e+00]),\n",
       " array([1.9995412e+00, 9.9954116e-01, 9.9442786e-01, ..., 5.6628906e-03,\n",
       "        5.6275055e-03, 1.3762284e-03], dtype=float32))"
      ]
     },
     "execution_count": 124,
     "metadata": {},
     "output_type": "execute_result"
    }
   ],
   "source": [
    "roc_curve(y_test, test_pre)"
   ]
  },
  {
   "cell_type": "code",
   "execution_count": 128,
   "id": "ca945602",
   "metadata": {},
   "outputs": [
    {
     "data": {
      "image/png": "[encoded data removed]",
      "text/plain": [
       "<Figure size 640x480 with 1 Axes>"
      ]
     },
     "metadata": {},
     "output_type": "display_data"
    }
   ],
   "source": [
    "ns_fpr, ns_tpr, _ = roc_curve(y_test, test_pre)\n",
    "lr_fpr, lr_tpr, _ = roc_curve(y_test, test_pre)\n",
    "# plot the roc curve for the model\n",
    "plt.plot(ns_fpr, ns_tpr, linestyle='--', label='Male')\n",
    "plt.plot(lr_fpr, lr_tpr, marker='.', label='Female')\n",
    "# axis labels\n",
    "plt.xlabel('False Positive Rate')\n",
    "plt.ylabel('True Positive Rate')\n",
    "# show the legend\n",
    "plt.legend()\n",
    "# show the plot\n",
    "plt.show()"
   ]
  },
  {
   "cell_type": "code",
   "execution_count": 234,
   "id": "8f034b95",
   "metadata": {
    "scrolled": true
   },
   "outputs": [
    {
     "name": "stdout",
     "output_type": "stream",
     "text": [
      "1/1 [==============================] - 0s 41ms/step\n"
     ]
    }
   ],
   "source": [
    "Junior=np.array(nametonum(\"aziz\"))\n",
    "p=model.predict(Junior)"
   ]
  },
  {
   "cell_type": "code",
   "execution_count": 238,
   "id": "553aacdf",
   "metadata": {},
   "outputs": [
    {
     "data": {
      "text/plain": [
       "0.9013386"
      ]
     },
     "execution_count": 238,
     "metadata": {},
     "output_type": "execute_result"
    }
   ],
   "source": [
    "p[0][0]"
   ]
  },
  {
   "cell_type": "code",
   "execution_count": 140,
   "id": "4182ad02",
   "metadata": {},
   "outputs": [
    {
     "data": {
      "text/plain": [
       "array([[ 0,  0,  0, ...,  3, 17,  0],\n",
       "       [ 0,  0,  0, ..., 13,  0,  4],\n",
       "       [ 0,  0,  0, ..., 19,  4, 13],\n",
       "       ...,\n",
       "       [ 0,  0,  0, ...,  7,  0, 21],\n",
       "       [ 0,  0,  0, ..., 14, 12,  0],\n",
       "       [ 0,  0,  0, ...,  4,  3, 24]])"
      ]
     },
     "execution_count": 140,
     "metadata": {},
     "output_type": "execute_result"
    }
   ],
   "source": [
    "X_test"
   ]
  },
  {
   "cell_type": "code",
   "execution_count": 236,
   "id": "b3e7c865",
   "metadata": {},
   "outputs": [
    {
     "data": {
      "text/plain": [
       "<keras.engine.sequential.Sequential at 0x2075bb033d0>"
      ]
     },
     "execution_count": 236,
     "metadata": {},
     "output_type": "execute_result"
    }
   ],
   "source": [
    "tf.keras.models.load_model(\"predict_name.h5\")"
   ]
  },
  {
   "cell_type": "code",
   "execution_count": 172,
   "id": "ff3e31b4",
   "metadata": {},
   "outputs": [
    {
     "name": "stdout",
     "output_type": "stream",
     "text": [
      "Model: \"sequential_3\"\n",
      "_________________________________________________________________\n",
      " Layer (type)                Output Shape              Param #   \n",
      "=================================================================\n",
      " embedding_3 (Embedding)     (None, 50, 256)           6912      \n",
      "                                                                 \n",
      " bidirectional_3 (Bidirectio  (None, 256)              394240    \n",
      " nal)                                                            \n",
      "                                                                 \n",
      " dense_3 (Dense)             (None, 1)                 257       \n",
      "                                                                 \n",
      "=================================================================\n",
      "Total params: 401,409\n",
      "Trainable params: 401,409\n",
      "Non-trainable params: 0\n",
      "_________________________________________________________________\n"
     ]
    }
   ],
   "source": [
    "model.summary()"
   ]
  },
  {
   "cell_type": "code",
   "execution_count": 1,
   "id": "c199c756",
   "metadata": {},
   "outputs": [
    {
     "name": "stderr",
     "output_type": "stream",
     "text": [
      "C:\\Users\\7MAKSACOD PC\\miniconda3\\lib\\site-packages\\scipy\\__init__.py:146: UserWarning: A NumPy version >=1.16.5 and <1.23.0 is required for this version of SciPy (detected version 1.23.4\n",
      "  warnings.warn(f\"A NumPy version >={np_minversion} and <{np_maxversion}\"\n"
     ]
    }
   ],
   "source": [
    "import predict_sex as ps"
   ]
  },
  {
   "cell_type": "code",
   "execution_count": 2,
   "id": "43ed89ce",
   "metadata": {},
   "outputs": [
    {
     "name": "stdout",
     "output_type": "stream",
     "text": [
      "1/1 [==============================] - 1s 669ms/step\n"
     ]
    },
    {
     "data": {
      "text/plain": [
       "'Male'"
      ]
     },
     "execution_count": 2,
     "metadata": {},
     "output_type": "execute_result"
    }
   ],
   "source": [
    "ps.predict_name(\"Junior\")"
   ]
  },
  {
   "cell_type": "code",
   "execution_count": null,
   "id": "ec6e5277",
   "metadata": {},
   "outputs": [],
   "source": []
  }
 ],
 "metadata": {
  "celltoolbar": "Raw Cell Format",
  "kernelspec": {
   "display_name": "Python 3 (ipykernel)",
   "language": "python",
   "name": "python3"
  },
  "language_info": {
   "codemirror_mode": {
    "name": "ipython",
    "version": 3
   },
   "file_extension": ".py",
   "mimetype": "text/x-python",
   "name": "python",
   "nbconvert_exporter": "python",
   "pygments_lexer": "ipython3",
   "version": "3.9.12"
  }
 },
 "nbformat": 4,
 "nbformat_minor": 5
}
